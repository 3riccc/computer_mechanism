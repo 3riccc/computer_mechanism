{
 "cells": [
  {
   "cell_type": "markdown",
   "metadata": {},
   "source": [
    "# 计算机发展历程"
   ]
  },
  {
   "cell_type": "markdown",
   "metadata": {},
   "source": [
    "- 电子管时代（1946-1957）\n",
    "    - 逻辑元件：电子管\n",
    "    - 机器语言编程\n",
    "    - 主存：延迟线或者磁鼓（我不知道这两个是什么，不重要）\n",
    "    - 体积大成本高运算慢（一秒几千到几万次）"
   ]
  },
  {
   "cell_type": "markdown",
   "metadata": {},
   "source": [
    "- 晶体管时代（1958-1964）\n",
    "    - 逻辑元件：晶体管\n",
    "    - 编程语言：开始高级，如FORTRAN\n",
    "    - 主存：磁芯存储器（依然不知道这是什么）\n",
    "    - 运算速度：每秒几万——几十万次\n",
    "    - 有了操作系统雏形"
   ]
  },
  {
   "cell_type": "markdown",
   "metadata": {},
   "source": [
    "- 中小规模集成电路时代（1965-1971）\n",
    "    - 逻辑元件：中小规模集成电路\n",
    "    - 主存：半导体存储器\n",
    "    - 高级语言发展迅速\n",
    "    - 操作系统：开始有了分时操作系统"
   ]
  },
  {
   "cell_type": "markdown",
   "metadata": {},
   "source": [
    "- 超大规模集成电路时代（1972——现代）\n",
    "    - 逻辑元件：大规模/超大规模集成电路\n",
    "    - 产生了微处理器\n",
    "    - 并行、流水线、高速缓存、虚拟存储器等概念开始出现"
   ]
  },
  {
   "cell_type": "markdown",
   "metadata": {},
   "source": [
    "<hr/>\n",
    "## 分类\n",
    "\n",
    "- 模拟计算机\n",
    "\n",
    "- 数字计算机\n",
    "    - 专用计算机\n",
    "    - 通用计算机（下列体积、功耗、性能、存储量、指令系统复杂度、价格依次递减）\n",
    "        - 巨型机\n",
    "        - 大型机\n",
    "        - 中型机\n",
    "        - 小型机\n",
    "        - 微型机\n",
    "        - 单片机\n",
    "        \n",
    "        \n",
    "按照指令和数据流可以分为\n",
    "\n",
    "- 单指令流单数据流（SISD）：传统冯诺伊曼体系结构\n",
    "\n",
    "- 单指令流多数据流（SIMD）：例如阵列处理器和向量处理器系统\n",
    "\n",
    "- 多指令流单数据流（MISD）：不存在\n",
    "\n",
    "- 多指令流多数据流（MIMD）：多处理器和多计算机系统"
   ]
  },
  {
   "cell_type": "markdown",
   "metadata": {},
   "source": [
    "<hr/>\n",
    "## 发展方向\n",
    "\n",
    "- 微型机\n",
    "    - 微型化\n",
    "    - 网络化\n",
    "    - 高性能\n",
    "    - 多用途\n",
    "    \n",
    "    \n",
    "- 巨型机\n",
    "    - 巨型化\n",
    "    - 超高速\n",
    "    - 并行处理\n",
    "    - 智能化"
   ]
  },
  {
   "cell_type": "code",
   "execution_count": null,
   "metadata": {
    "collapsed": true
   },
   "outputs": [],
   "source": []
  }
 ],
 "metadata": {
  "kernelspec": {
   "display_name": "C",
   "language": "c",
   "name": "c"
  },
  "language_info": {
   "file_extension": ".c",
   "mimetype": "text/plain",
   "name": "c"
  }
 },
 "nbformat": 4,
 "nbformat_minor": 2
}
