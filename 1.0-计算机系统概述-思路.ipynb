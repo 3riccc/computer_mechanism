{
 "cells": [
  {
   "cell_type": "markdown",
   "metadata": {},
   "source": [
    "# 计算机系统概述-思路"
   ]
  },
  {
   "cell_type": "markdown",
   "metadata": {},
   "source": [
    "### 考试要点\n",
    "- 发展历程\n",
    "- 层次结构\n",
    "    - 硬件组成\n",
    "    - 软件分类\n",
    "    - 工作过程\n",
    "- 计算机性能指标\n",
    "    - 吞吐量\n",
    "    - 响应时间\n",
    "    - CPU时钟周期\n",
    "    - 主频\n",
    "    - CPI\n",
    "    - CPU执行时间\n",
    "    - MIPS\n",
    "    - 。。。还有好几项现在看不懂"
   ]
  },
  {
   "cell_type": "markdown",
   "metadata": {},
   "source": [
    "## 考试怎么考\n",
    "\n",
    "- 对有关概念和性能指标出选择题\n",
    "\n",
    "- 综合后面的知识，在性能分析方面出题\n"
   ]
  },
  {
   "cell_type": "markdown",
   "metadata": {},
   "source": [
    "## 本章学习目标\n",
    "\n",
    "- 各个性能指标的计算方式\n"
   ]
  },
  {
   "cell_type": "markdown",
   "metadata": {},
   "source": [
    "## 带着这么几个问题去学习\n",
    "\n",
    "- 计算机由哪几个部分组成，哪几个部分为中心\n",
    "\n",
    "- 计算机的运算速度和主频是什么关系\n",
    "\n",
    "- 翻译程序、汇编程序、编译程序、解释程序各有什么特性，有什么区别\n",
    "\n",
    "- 不同级别的语言写的程序有什么区别，哪种能直接被硬件执行"
   ]
  },
  {
   "cell_type": "code",
   "execution_count": null,
   "metadata": {
    "collapsed": true
   },
   "outputs": [],
   "source": []
  }
 ],
 "metadata": {
  "kernelspec": {
   "display_name": "C",
   "language": "c",
   "name": "c"
  },
  "language_info": {
   "file_extension": ".c",
   "mimetype": "text/plain",
   "name": "c"
  }
 },
 "nbformat": 4,
 "nbformat_minor": 2
}
